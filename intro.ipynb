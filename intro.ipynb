{
  "cells": [
    {
      "cell_type": "raw",
      "metadata": {},
      "source": [
        "---\n",
        "title: Introduktion till Python\n",
        "author: Filip Edström\n",
        "format: pdf\n",
        "editor: visual\n",
        "---"
      ],
      "id": "acf847e1"
    },
    {
      "cell_type": "markdown",
      "metadata": {},
      "source": [
        "## Komma ig[ng\n",
        "\n",
        "Ni kan välja flera olika sätt att köra Python, här är tre alternativ.\n",
        "\n",
        "**1. Google Colab**\n",
        "\n",
        "Google Colab är ett enkelt sätt att komma igång med Python i ett notebook format och kräver ingen installation men kräver ett Google-konto(?).\n",
        "\n",
        "**2. RStudio**\n",
        "\n",
        "Att köra Python i RStudio är inte optimalt, eftersom det bygger på speciella R-paket, men det är ett bra sätt att komma igång snabbt. Ni behöver installera både Python (se guide nedan) och R-paketet `reticulate`.\n",
        "\n",
        "``` r\n",
        "install.packages(\"reticulate\")\n",
        "```\n",
        "\n",
        "Ni kan sen öppna en ny fil och välja \"Python script\" för att köra Python, direkt i RStudio.\n",
        "\n",
        "**3. Visual Studio eller annan editor**\n",
        "\n",
        "Om ni vill skriva mer Python-kod i framtiden kan det vara värt att installera Python på er dator och använda en annan editor, t.ex. Microsofts Visual Studio. Ni behöver installera Python (se guide nedan) och förslagsvis en IDE.\n",
        "\n",
        "### Installations guide\n",
        "\n",
        "1. Gå till [](https://www.python.org/downloads/release/python-3120/) och scrolla längst ned till filer. Välj den fil som passar ditt operativsystem.\n",
        "2. Installera Python enligt installations \"wizarden\".\n",
        "3. Installera nödvändiga Python-paket:\n",
        "    - **Windows**: Öppna \"Command Prompt\" och skriv in följande kommando `py -m pip install --upgrade pip numpy pandas matplotlib`\n",
        "    - **Mac**: Öppna \"Terminal\" och skriv in följande kommando `python3 -m pip install --upgrade pip numpy pandas matplotlib`\n",
        "    \n",
        "Python och de paket vi behöver ska nu vara installerade på er dator. \n",
        "\n",
        "## Uppgift 1 - Syntax\n",
        "\n",
        "Syntax inom programmering är de regler och strukturer som måste följas när du skriver kod för att programmet ska förstås och fungera korrekt. Syntaxen skiljer sig generellt mellan olika programmeringsspråk, även om det finns generella mönster som förekommer i alla språk, så som tilldelning (\\<-), loopar, och if/else-satser. Pythons syntax är framtaget för att vara främja läsbarheten i koden och ger en möjlighet att skriva väldigt läsbar kod. I den här uppgiften ska du skriva om kod från R kod till Python kod givet de skillnader i syntax som beskrivs.\n",
        "\n",
        "**Tilldelning**\n",
        "\n",
        "I R används `<-` för att tilldela variabler värden medan Python istället använder `=`. Skriv om följande kod till Python kod och se till att den går att köra.\n",
        "\n",
        "**R**\n",
        "\n",
        "``` r\n",
        "# Assigning a value to a variable\n",
        "x <- 10\n",
        "y <- \"hello\"\n",
        "```\n",
        "\n",
        "**Python**\n"
      ],
      "id": "7a50a0eb"
    },
    {
      "cell_type": "code",
      "metadata": {},
      "source": [
        "# Assigning a value to a variable\n",
        "x = 10\n",
        "y = \"hello\""
      ],
      "id": "091bf881",
      "execution_count": null,
      "outputs": []
    },
    {
      "cell_type": "markdown",
      "metadata": {},
      "source": [
        "## Datastrukturer och indexering\n",
        "\n",
        "En datastruktur är ett objekt som strukturerar data och möjliggör sökning, kategorisering, och lagring av information. I R används primärt två datastrukturer, vektorer och listor. I Python finns inga vektorer, bara listor, men också fler datatyper som \"tuples\" och \"dictionaries\". Använd internet, LLMs, eller [den här dokumentationen](https://docs.python.org/3/tutorial/datastructures.html#) för att läsa mer om listor, tuples, och dictionaries i Python. Gör sedan följande uppgifter:\n",
        "\n",
        "1.  Skriv sedan om den här koden till Python kod med rätt datatyper (datastrukturer).\n",
        "2.  Redogör för skillnaden mellan en lista och en tuple.\n",
        "\n",
        "Tips: För att se en värdet av en variabel i Python, använd funktionen `print` (om ni använder notebooks så kan ni skriva ut variabeln, precis som i R).\n",
        "\n",
        "**R**\n",
        "\n",
        "\n",
        "```{r}\n",
        "# Vector\n",
        "v <- c(1, 2, 3)\n",
        "v\n",
        "# List\n",
        "l <- list(\"Apple\", \"Orange\", \"Pear\")\n",
        "l\n",
        "# Dictionary\n",
        "d <- list(apple = \"crunchy\", orange = \"juicy\", pear = \"sweet\")\n",
        "d\n",
        "```\n",
        "\n",
        "\n",
        "**Python**\n"
      ],
      "id": "acccd126"
    },
    {
      "cell_type": "code",
      "metadata": {},
      "source": [
        "# List\n",
        "v = [1, 2, 3]\n",
        "print(v)\n",
        "# List\n",
        "l = [\"Apple\", \"Orange\", \"Pear\"]\n",
        "print(l)\n",
        "# Dictionary\n",
        "d = {\"apple\": \"crunchy\", \"orange\": \"juicy\", \"pear\": \"sweet\"}\n",
        "print(d)"
      ],
      "id": "a7053c3d",
      "execution_count": null,
      "outputs": []
    },
    {
      "cell_type": "markdown",
      "metadata": {},
      "source": [
        "## Loopar och if/else-satser\n",
        "\n",
        "Python använder inte \"måsvingar\" som i R, istället används indentering för att bestämma vilken kod som exekveras inom en loop eller en if-sats. Likt R så fungerar for-looparna som \"foreach\"-loopar, där det man \"loopar\" över är innehållet i en datastruktur, till exempel en vektor eller lista. Läs på internet, använd LLMs, eller kolla på [den här dokumentationen](https://docs.python.org/3/tutorial/controlflow.html#if-statements) för att se exempel och lära er mer om for-loopar och if-satser. Skriv om den följande R-koden till Python-kod.\n",
        "\n",
        "**R**\n",
        "\n",
        "\n",
        "```{r}\n",
        "numbers <- seq(1, 10)\n",
        "for (number in numbers) {\n",
        "  print(number)  \n",
        "  if (number == 5) print(\"Five\")\n",
        "}\n",
        "```\n",
        "\n",
        "\n",
        "**Python**\n"
      ],
      "id": "b73a3d05"
    },
    {
      "cell_type": "code",
      "metadata": {},
      "source": [
        "numbers = range(1, 10)\n",
        "for number in numbers:\n",
        "    print(number)\n",
        "    if number == 5:\n",
        "        print(\"Five\")"
      ],
      "id": "5400c45a",
      "execution_count": null,
      "outputs": []
    },
    {
      "cell_type": "markdown",
      "metadata": {},
      "source": [
        "## Loops\n",
        "\n",
        "**R**\n",
        "\n",
        "``` r\n",
        "# For loop\n",
        "for (i in 1:5) {\n",
        "  print(i)\n",
        "}\n",
        "```\n",
        "\n",
        "**Python**\n"
      ],
      "id": "c0b0d248"
    },
    {
      "cell_type": "code",
      "metadata": {},
      "source": [
        "# For loop\n",
        "for i in range(1, 6):\n",
        "    print(i)"
      ],
      "id": "9d737b2f",
      "execution_count": null,
      "outputs": []
    },
    {
      "cell_type": "markdown",
      "metadata": {},
      "source": [
        "## Function Definitions\n",
        "\n",
        "**R**\n",
        "\n",
        "``` r\n",
        "# Defining a function\n",
        "add <- function(a, b) {\n",
        "  return(a + b)\n",
        "}\n",
        "```\n",
        "\n",
        "**Python**\n"
      ],
      "id": "943d72b1"
    },
    {
      "cell_type": "code",
      "metadata": {},
      "source": [
        "# Defining a function\n",
        "def add(a, b):\n",
        "    return a + b"
      ],
      "id": "9762f318",
      "execution_count": null,
      "outputs": []
    },
    {
      "cell_type": "markdown",
      "metadata": {},
      "source": [
        "## Library Imports\n",
        "\n",
        "**R**\n",
        "\n",
        "``` r\n",
        "# Importing a library\n",
        "library(ggplot2)\n",
        "```\n",
        "\n",
        "**Python**\n"
      ],
      "id": "4508f662"
    },
    {
      "cell_type": "code",
      "metadata": {},
      "source": [
        "# Importing a library\n",
        "import matplotlib.pyplot as plt"
      ],
      "id": "74a694c9",
      "execution_count": null,
      "outputs": []
    }
  ],
  "metadata": {
    "kernelspec": {
      "name": "python3",
      "language": "python",
      "display_name": "Python 3 (ipykernel)"
    }
  },
  "nbformat": 4,
  "nbformat_minor": 5
}