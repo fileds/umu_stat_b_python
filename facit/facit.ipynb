{
  "cells": [
    {
      "cell_type": "raw",
      "metadata": {},
      "source": [
        "---\n",
        "title: \"Introduktion till Python - Facit\"\n",
        "author: \"Filip Edström\"\n",
        "format: \n",
        "  html:\n",
        "    embed-resources: true\n",
        "    toc: true\n",
        "---"
      ],
      "id": "c6f97acc"
    },
    {
      "cell_type": "markdown",
      "metadata": {},
      "source": [
        "## Uppgift 1 - grunder och syntax\n",
        "\n",
        "### (a) Tilldelning\n",
        "\n",
        "\n",
        "\n",
        "**Python**\n"
      ],
      "id": "0a0455dc"
    },
    {
      "cell_type": "code",
      "metadata": {},
      "source": [
        "# Assigning a value to a variable\n",
        "x = 10\n",
        "y = \"hello\""
      ],
      "id": "003fd778",
      "execution_count": null,
      "outputs": []
    },
    {
      "cell_type": "markdown",
      "metadata": {},
      "source": [
        "### (b) Datastrukturer och indexering\n",
        "\n",
        "**Python**\n"
      ],
      "id": "e9cf3923"
    },
    {
      "cell_type": "code",
      "metadata": {},
      "source": [
        "# List\n",
        "v = [1, 2, 3]\n",
        "print(v)\n",
        "# List\n",
        "l = [\"Apple\", \"Orange\", \"Pear\"]\n",
        "print(l)\n",
        "# Dictionary\n",
        "d = {\"apple\": \"crunchy\", \"orange\": \"juicy\", \"pear\": \"sweet\"}\n",
        "print(d)"
      ],
      "id": "7320ac8a",
      "execution_count": null,
      "outputs": []
    },
    {
      "cell_type": "markdown",
      "metadata": {},
      "source": [
        "### (c) Loopar och if/else-satser\n",
        "\n",
        "**Python**\n"
      ],
      "id": "467879b2"
    },
    {
      "cell_type": "code",
      "metadata": {},
      "source": [
        "numbers = range(1, 10)\n",
        "for number in numbers:\n",
        "    print(number)\n",
        "    if number == 5:\n",
        "        print(\"Five\")"
      ],
      "id": "f0411653",
      "execution_count": null,
      "outputs": []
    },
    {
      "cell_type": "markdown",
      "metadata": {},
      "source": [
        "### (d) Funktioner\n",
        "\n",
        "**Python**\n"
      ],
      "id": "dd97ddf2"
    },
    {
      "cell_type": "code",
      "metadata": {},
      "source": [
        "def multiply(x, y):\n",
        "    return x * y\n",
        "multiply(2, 22)"
      ],
      "id": "8c35c171",
      "execution_count": null,
      "outputs": []
    },
    {
      "cell_type": "markdown",
      "metadata": {},
      "source": [
        "### (e) Paket\n",
        "\n",
        "**Python**\n"
      ],
      "id": "09e2cabc"
    },
    {
      "cell_type": "code",
      "metadata": {},
      "source": [
        "import numpy as np\n",
        "import pandas as pd\n",
        "import matplotlib.pyplot as plt\n",
        "\n",
        "# Load data frame\n",
        "penguins = pd.read_csv(\"penguins.csv\")\n",
        "# Print head of dataframe\n",
        "penguins.head()\n",
        "# Print head of species column\n",
        "penguins[\"species\"].head()\n",
        "# Compute mean of flipper_length_mm\n",
        "np.mean(penguins[\"flipper_length_mm\"])\n",
        "# Plot bill_length_mm vs bill_depth_mm\n",
        "plt.scatter(penguins[\"bill_length_mm\"], penguins[\"bill_depth_mm\"])\n",
        "plt.show()"
      ],
      "id": "a0699209",
      "execution_count": null,
      "outputs": []
    },
    {
      "cell_type": "markdown",
      "metadata": {},
      "source": [
        "### (f) Objektorienterad programmering\n",
        "\n",
        "**Python**\n"
      ],
      "id": "cc0b63f7"
    },
    {
      "cell_type": "code",
      "metadata": {},
      "source": [
        "class Animal:\n",
        "    def __init__(self, name):\n",
        "        self.name = name\n",
        "\n",
        "    def speak(self):\n",
        "        raise NotImplementedError(\"Subclass must implement this method\")\n",
        "\n",
        "class Dog(Animal):\n",
        "    def speak(self):\n",
        "        return f\"{self.name} says Woof!\"\n",
        "\n",
        "class Cat(Animal):\n",
        "    def speak(self):\n",
        "        return f\"{self.name} says Meow!\"\n",
        "\n",
        "# Demonstrating Polymorphism\n",
        "animals = [Dog(\"Buddy\"), Cat(\"Whiskers\")]\n",
        "\n",
        "for animal in animals:\n",
        "    print(animal.speak())"
      ],
      "id": "8fe1eb50",
      "execution_count": null,
      "outputs": []
    },
    {
      "cell_type": "markdown",
      "metadata": {},
      "source": [
        "## Uppgift 2 - Centrala gränsvärdessatsen\n",
        "\n",
        "Not implemented yet."
      ],
      "id": "d1362bfe"
    }
  ],
  "metadata": {
    "kernelspec": {
      "name": "causalworld",
      "language": "python",
      "display_name": "causalworld"
    }
  },
  "nbformat": 4,
  "nbformat_minor": 5
}